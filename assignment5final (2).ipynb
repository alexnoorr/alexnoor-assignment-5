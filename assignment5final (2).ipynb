{
  "cells": [
    {
      "cell_type": "code",
      "execution_count": 18,
      "metadata": {
        "id": "OXE0XNlPm2ne"
      },
      "outputs": [],
      "source": [
        "import numpy as np\n",
        "import pandas as pd"
      ]
    },
    {
      "cell_type": "code",
      "execution_count": 19,
      "metadata": {
        "id": "PkWOYNTPm2nf"
      },
      "outputs": [],
      "source": [
        "# Define the KNN class\n",
        "class KNN:\n",
        "    def __init__(self, k=3, distance_metric='euclidean'):\n",
        "        self.k = k\n",
        "        self.distance_metric = distance_metric\n",
        "\n",
        "    def fit(self, X, y):\n",
        "        self.X_train = X\n",
        "        self.y_train = y\n",
        "\n",
        "    def predict(self, X):\n",
        "        predictions = [self._predict(x) for x in X]\n",
        "        return np.array(predictions)\n",
        "\n",
        "    def _predict(self, x):\n",
        "        # Compute distances between x and all training samples\n",
        "        distances = [self.compute_distance(x, x_train) for x_train in self.X_train]\n",
        "        # Get the k nearest samples\n",
        "        k_indices = np.argsort(distances)[:self.k]\n",
        "        k_nearest_labels = [self.y_train[i] for i in k_indices]\n",
        "        # Majority vote: most common label among k nearest neighbors\n",
        "        most_common = self._majority_vote(k_nearest_labels)\n",
        "        return most_common\n",
        "\n",
        "    def compute_distance(self, X1, X2):\n",
        "        if self.distance_metric == 'euclidean':\n",
        "            return np.sqrt(np.sum((X1 - X2) ** 2))\n",
        "        elif self.distance_metric == 'manhattan':\n",
        "            return np.sum(np.abs(X1 - X2))\n",
        "        else:\n",
        "            raise ValueError(\"Unknown distance metric\")\n",
        "\n",
        "    def _majority_vote(self, neighbors):\n",
        "        # Find the unique classes and their counts\n",
        "        unique, counts = np.unique(neighbors, return_counts=True)\n",
        "        # Return the class with the highest count\n",
        "        return unique[np.argmax(counts)]"
      ]
    },
    {
      "cell_type": "code",
      "execution_count": 20,
      "metadata": {
        "colab": {
          "base_uri": "https://localhost:8080/"
        },
        "id": "X6YXR4oUm2ng",
        "outputId": "25240e6d-52b5-4851-c51d-751913b7ed5d"
      },
      "outputs": [
        {
          "output_type": "stream",
          "name": "stdout",
          "text": [
            "Drive already mounted at /content/drive; to attempt to forcibly remount, call drive.mount(\"/content/drive\", force_remount=True).\n"
          ]
        }
      ],
      "source": [
        "# Define data preprocessing function\n",
        "from google.colab import drive\n",
        "drive.mount('/content/drive')\n",
        "\n",
        "def preprocess_data(train_path, test_path):\n",
        "    train_data = pd.read_csv('/content/drive/My Drive/train.csv')[:10000]\n",
        "    test_data = pd.read_csv('/content/drive/My Drive/test.csv')\n",
        "\n",
        "    # Convert categorical variables to numerical (e.g., Geography, Gender)\n",
        "    train_data['Geography'] = train_data['Geography'].map({'France': 0, 'Germany': 1, 'Spain': 2})\n",
        "    test_data['Geography'] = test_data['Geography'].map({'France': 0, 'Germany': 1, 'Spain': 2})\n",
        "\n",
        "    train_data['Gender'] = train_data['Gender'].map({'Male': 0, 'Female': 1})\n",
        "    test_data['Gender'] = test_data['Gender'].map({'Male': 0, 'Female': 1})\n",
        "\n",
        "    # Exclude non-relevant columns such as CustomerId and Surname\n",
        "    X_train = train_data.drop(columns=['CustomerId', 'Surname', 'Exited'])\n",
        "    y_train = train_data['Exited'].values\n",
        "    X_test = test_data.drop(columns=['CustomerId', 'Surname'])\n",
        "\n",
        "    # Scale numerical features using min-max scaling\n",
        "    for col in X_train.columns:\n",
        "        if X_train[col].dtype != 'object':\n",
        "            min_val = X_train[col].min()\n",
        "            max_val = X_train[col].max()\n",
        "            X_train[col] = (X_train[col] - min_val) / (max_val - min_val)\n",
        "            X_test[col] = (X_test[col] - min_val) / (max_val - min_val)\n",
        "\n",
        "    return X_train.values, y_train, X_test.values\n",
        "\n",
        "# Load and preprocess data\n",
        "X, y, X_test = preprocess_data('train_data', 'test_data')"
      ]
    },
    {
      "cell_type": "code",
      "execution_count": 21,
      "metadata": {
        "id": "jBEwLikhm2ng"
      },
      "outputs": [],
      "source": [
        "# Define cross-validation function\n",
        "def cross_validate(X, y, knn, n_splits=5):\n",
        "    n_samples = len(X)\n",
        "    fold_size = n_samples // n_splits\n",
        "    auc_scores = []\n",
        "\n",
        "    for fold in range(n_splits):\n",
        "        start = fold * fold_size\n",
        "        end = start + fold_size if fold != n_splits - 1 else n_samples\n",
        "\n",
        "        X_train_fold = np.concatenate((X[:start], X[end:]), axis=0)\n",
        "        y_train_fold = np.concatenate((y[:start], y[end:]), axis=0)\n",
        "        X_val_fold = X[start:end]\n",
        "        y_val_fold = y[start:end]\n",
        "\n",
        "        knn.fit(X_train_fold, y_train_fold)\n",
        "        y_pred = knn.predict(X_val_fold)\n",
        "\n",
        "        # Calculate ROC AUC manually\n",
        "        auc_score = roc_auc(y_val_fold, y_pred)\n",
        "        auc_scores.append(auc_score)\n",
        "\n",
        "    return np.mean(auc_scores)\n",
        "\n",
        "def roc_auc(y_true, y_pred):\n",
        "    # Sort predictions and true values together\n",
        "    sorted_indices = np.argsort(y_pred)\n",
        "    sorted_y_true = y_true[sorted_indices]\n",
        "\n",
        "    # Calculate true positive rate (TPR) and false positive rate (FPR)\n",
        "    positives = np.sum(y_true == 1)\n",
        "    negatives = np.sum(y_true == 0)\n",
        "\n",
        "    tpr = np.cumsum(sorted_y_true == 1) / positives\n",
        "    fpr = np.cumsum(sorted_y_true == 0) / negatives\n",
        "\n",
        "    # Compute AUC using the trapezoidal rule\n",
        "    return np.trapz(tpr, fpr)"
      ]
    },
    {
      "cell_type": "code",
      "execution_count": 23,
      "metadata": {
        "colab": {
          "base_uri": "https://localhost:8080/",
          "height": 196
        },
        "id": "QOWx9MWKm2nh",
        "outputId": "ce7aa7d3-8975-4e64-a702-41a0ad2d4d94"
      },
      "outputs": [
        {
          "output_type": "stream",
          "name": "stdout",
          "text": [
            "Cross-validation scores: 0.2742392498634296\n",
            "k=3, distance_metric=euclidean, ROC AUC=0.27376134660152374\n",
            "k=3, distance_metric=manhattan, ROC AUC=0.273118428430282\n",
            "k=5, distance_metric=euclidean, ROC AUC=0.2742392498634296\n",
            "k=5, distance_metric=manhattan, ROC AUC=0.2686750957337013\n",
            "k=7, distance_metric=euclidean, ROC AUC=0.2824857789857056\n",
            "k=7, distance_metric=manhattan, ROC AUC=0.2701292548331019\n",
            "k=9, distance_metric=euclidean, ROC AUC=0.2824311735787534\n",
            "k=9, distance_metric=manhattan, ROC AUC=0.27584742941011486\n",
            "Best parameters: k=7, distance_metric=euclidean, Best ROC AUC=0.2824857789857056\n"
          ]
        },
        {
          "output_type": "display_data",
          "data": {
            "text/plain": [
              "<IPython.core.display.Javascript object>"
            ],
            "application/javascript": [
              "\n",
              "    async function download(id, filename, size) {\n",
              "      if (!google.colab.kernel.accessAllowed) {\n",
              "        return;\n",
              "      }\n",
              "      const div = document.createElement('div');\n",
              "      const label = document.createElement('label');\n",
              "      label.textContent = `Downloading \"${filename}\": `;\n",
              "      div.appendChild(label);\n",
              "      const progress = document.createElement('progress');\n",
              "      progress.max = size;\n",
              "      div.appendChild(progress);\n",
              "      document.body.appendChild(div);\n",
              "\n",
              "      const buffers = [];\n",
              "      let downloaded = 0;\n",
              "\n",
              "      const channel = await google.colab.kernel.comms.open(id);\n",
              "      // Send a message to notify the kernel that we're ready.\n",
              "      channel.send({})\n",
              "\n",
              "      for await (const message of channel.messages) {\n",
              "        // Send a message to notify the kernel that we're ready.\n",
              "        channel.send({})\n",
              "        if (message.buffers) {\n",
              "          for (const buffer of message.buffers) {\n",
              "            buffers.push(buffer);\n",
              "            downloaded += buffer.byteLength;\n",
              "            progress.value = downloaded;\n",
              "          }\n",
              "        }\n",
              "      }\n",
              "      const blob = new Blob(buffers, {type: 'application/binary'});\n",
              "      const a = document.createElement('a');\n",
              "      a.href = window.URL.createObjectURL(blob);\n",
              "      a.download = filename;\n",
              "      div.appendChild(a);\n",
              "      a.click();\n",
              "      div.remove();\n",
              "    }\n",
              "  "
            ]
          },
          "metadata": {}
        },
        {
          "output_type": "display_data",
          "data": {
            "text/plain": [
              "<IPython.core.display.Javascript object>"
            ],
            "application/javascript": [
              "download(\"download_cc750da9-0f23-4b1f-b91a-3fec4fd981e7\", \"submission.csv\", 100010)"
            ]
          },
          "metadata": {}
        }
      ],
      "source": [
        "# Load and preprocess data\n",
        "X, y, X_test = preprocess_data('/content/drive/My Drive/train.csv'[:10000], '/content/drive/My Drive/test.csv')\n",
        "\n",
        "# Create and evaluate model\n",
        "knn = KNN(k=5, distance_metric='euclidean')\n",
        "\n",
        "# Perform cross-validation\n",
        "cv_scores = cross_validate(X, y, knn)\n",
        "\n",
        "print(\"Cross-validation scores:\", cv_scores)\n",
        "\n",
        "# TODO: hyperparamters tuning\n",
        "# Hyperparameter tuning function\n",
        "def hyperparameter_tuning(X, y, k_values, distance_metrics):\n",
        "    best_k = None\n",
        "    best_distance_metric = None\n",
        "    best_score = -1  # Initialize to a low value\n",
        "\n",
        "    # Iterate over all possible combinations of k and distance metrics\n",
        "    for k in k_values:\n",
        "        for distance_metric in distance_metrics:\n",
        "            knn = KNN(k=k, distance_metric=distance_metric)\n",
        "            cv_score = cross_validate(X, y, knn)\n",
        "            print(f'k={k}, distance_metric={distance_metric}, ROC AUC={cv_score}')\n",
        "\n",
        "            if cv_score > best_score:\n",
        "                best_score = cv_score\n",
        "                best_k = k\n",
        "                best_distance_metric = distance_metric\n",
        "\n",
        "    return best_k, best_distance_metric, best_score\n",
        "\n",
        "# Define the range of hyperparameters to test\n",
        "k_values = [3, 5, 7, 9]  # Test different k values\n",
        "distance_metrics = ['euclidean', 'manhattan']  # Test different distance metrics\n",
        "\n",
        "# Perform hyperparameter tuning\n",
        "best_k, best_distance_metric, best_score = hyperparameter_tuning(X, y, k_values, distance_metrics)\n",
        "print(f'Best parameters: k={best_k}, distance_metric={best_distance_metric}, Best ROC AUC={best_score}')\n",
        "\n",
        "# Train on full dataset with optimal hyperparameters and make predictions on test set\n",
        "knn = KNN(k=best_k, distance_metric=best_distance_metric)\n",
        "knn.fit(X, y)\n",
        "test_predictions = knn.predict(X_test)\n",
        "\n",
        "# Save test predictions\n",
        "pd.DataFrame({'id': pd.read_csv('/content/drive/My Drive/test.csv')['id'], 'Exited': test_predictions}).to_csv('submission.csv', index=False)\n",
        "\n",
        "# Download the submission file\n",
        "from google.colab import files\n",
        "files.download('submission.csv')"
      ]
    }
  ],
  "metadata": {
    "kernelspec": {
      "display_name": "cs506",
      "language": "python",
      "name": "python3"
    },
    "language_info": {
      "codemirror_mode": {
        "name": "ipython",
        "version": 3
      },
      "file_extension": ".py",
      "mimetype": "text/x-python",
      "name": "python",
      "nbconvert_exporter": "python",
      "pygments_lexer": "ipython3",
      "version": "3.10.15"
    },
    "colab": {
      "provenance": []
    }
  },
  "nbformat": 4,
  "nbformat_minor": 0
}